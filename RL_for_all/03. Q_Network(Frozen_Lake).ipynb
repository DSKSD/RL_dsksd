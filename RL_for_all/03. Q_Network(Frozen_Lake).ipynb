{
 "cells": [
  {
   "cell_type": "markdown",
   "metadata": {
    "deletable": true,
    "editable": true
   },
   "source": [
    "# Q-function Approximation "
   ]
  },
  {
   "cell_type": "markdown",
   "metadata": {
    "deletable": true,
    "editable": true
   },
   "source": [
    "$ Q^h$ ~ $Q^*$ <br>\n",
    "$J(w_i) = E_{\\pi} [(r + \\gamma max_{a'} Q^h(s',a';w_i^h) - Q(s,a;w_i))^2]$"
   ]
  },
  {
   "cell_type": "markdown",
   "metadata": {
    "deletable": true,
    "editable": true
   },
   "source": [
    "# Inspiration "
   ]
  },
  {
   "cell_type": "markdown",
   "metadata": {
    "deletable": true,
    "editable": true
   },
   "source": [
    "실제 세상에서의 State의 가능한 집합은 거의 무한(Infinite)이다. 이전에 하던 Table에 q-value를 저장하는 방식은 불가능하다..."
   ]
  },
  {
   "cell_type": "markdown",
   "metadata": {
    "deletable": true,
    "editable": true
   },
   "source": [
    "# Flozen Lake with Q-Network "
   ]
  },
  {
   "cell_type": "code",
   "execution_count": 1,
   "metadata": {
    "collapsed": true,
    "deletable": true,
    "editable": true
   },
   "outputs": [],
   "source": [
    "import gym\n",
    "import numpy as np\n",
    "import matplotlib.pyplot as plt\n",
    "import random\n",
    "import tensorflow as tf\n",
    "from IPython.display import clear_output\n",
    "%matplotlib inline"
   ]
  },
  {
   "cell_type": "markdown",
   "metadata": {
    "deletable": true,
    "editable": true
   },
   "source": [
    "### one-hot encoding "
   ]
  },
  {
   "cell_type": "markdown",
   "metadata": {
    "deletable": true,
    "editable": true
   },
   "source": [
    "state : np.identity(16)[s1:s1+1] # 4x4 의 world라서"
   ]
  },
  {
   "cell_type": "code",
   "execution_count": 2,
   "metadata": {
    "collapsed": false,
    "deletable": true,
    "editable": true
   },
   "outputs": [
    {
     "name": "stdout",
     "output_type": "stream",
     "text": [
      "[[ 1.  0.  0.  0.  0.  0.  0.  0.  0.  0.  0.  0.  0.  0.  0.  0.]]\n"
     ]
    }
   ],
   "source": [
    "print(np.identity(16)[0:1]) # identity는 단위행렬"
   ]
  },
  {
   "cell_type": "code",
   "execution_count": 3,
   "metadata": {
    "collapsed": true,
    "deletable": true,
    "editable": true
   },
   "outputs": [],
   "source": [
    "def one_hot(x):\n",
    "    return np.identity(16)[x:x+1]"
   ]
  },
  {
   "cell_type": "code",
   "execution_count": 4,
   "metadata": {
    "collapsed": false,
    "deletable": true,
    "editable": true
   },
   "outputs": [
    {
     "name": "stderr",
     "output_type": "stream",
     "text": [
      "[2017-02-24 10:39:10,614] Making new env: FrozenLake-v0\n"
     ]
    }
   ],
   "source": [
    "env = gym.make('FrozenLake-v0')"
   ]
  },
  {
   "cell_type": "code",
   "execution_count": 5,
   "metadata": {
    "collapsed": true,
    "deletable": true,
    "editable": true
   },
   "outputs": [],
   "source": [
    "num_episodes = 2000\n",
    "dis = .99\n",
    "learning_rate = 0.1\n",
    "rList = [] # create lists to contain total rewards and steps per episode\n",
    "EGREEDY = True # True if e-greedy , False if add random_noise"
   ]
  },
  {
   "cell_type": "code",
   "execution_count": 6,
   "metadata": {
    "collapsed": true,
    "deletable": true,
    "editable": true
   },
   "outputs": [],
   "source": [
    "input_size = env.observation_space.n # 16\n",
    "output_size = env.action_space.n # 4"
   ]
  },
  {
   "cell_type": "markdown",
   "metadata": {
    "deletable": true,
    "editable": true
   },
   "source": [
    "### Simple Q-network  (not hidden layer)"
   ]
  },
  {
   "cell_type": "code",
   "execution_count": 7,
   "metadata": {
    "collapsed": true,
    "deletable": true,
    "editable": true
   },
   "outputs": [],
   "source": [
    "X = tf.placeholder(shape=[1,input_size],dtype=tf.float32)\n",
    "Y = tf.placeholder(shape=[1,output_size],dtype=tf.float32)\n",
    "\n",
    "W = tf.Variable(tf.random_uniform([input_size, output_size],0,0.01))\n",
    "Qpred = tf.matmul(X,W)"
   ]
  },
  {
   "cell_type": "code",
   "execution_count": 8,
   "metadata": {
    "collapsed": false,
    "deletable": true,
    "editable": true
   },
   "outputs": [],
   "source": [
    "loss = tf.reduce_sum(tf.square(Y-Qpred))\n",
    "train = tf.train.GradientDescentOptimizer(learning_rate=learning_rate).minimize(loss)"
   ]
  },
  {
   "cell_type": "markdown",
   "metadata": {},
   "source": [
    "# Q-learning with Q-network "
   ]
  },
  {
   "cell_type": "code",
   "execution_count": 9,
   "metadata": {
    "collapsed": false,
    "deletable": true,
    "editable": true
   },
   "outputs": [
    {
     "name": "stdout",
     "output_type": "stream",
     "text": [
      "0\n",
      "100\n",
      "200\n",
      "300\n",
      "400\n",
      "500\n",
      "600\n",
      "700\n",
      "800\n",
      "900\n",
      "1000\n",
      "1100\n",
      "1200\n",
      "1300\n",
      "1400\n",
      "1500\n",
      "1600\n",
      "1700\n",
      "1800\n",
      "1900\n"
     ]
    }
   ],
   "source": [
    "with tf.Session() as sess:\n",
    "    sess.run(tf.global_variables_initializer())\n",
    "    for i_episode in range(num_episodes):\n",
    "        \n",
    "        if i_episode % 100 == 0:\n",
    "            print(i_episode)\n",
    "        s = env.reset()\n",
    "        rAll = 0 # 모든 리워드?\n",
    "        done = False\n",
    "        local_loss = []\n",
    "        e = 1. / ((i_episode//50)+10) # 엡실론 디케이 \n",
    "\n",
    "        while not done: # 한판 끝날 때 까지 해봐서 Q-value를 업데이트를 해나간다\n",
    "\n",
    "            Qs = sess.run(Qpred,feed_dict={X:one_hot(s)})\n",
    "\n",
    "            if EGREEDY:\n",
    "                    # e-greedy\n",
    "                    if np.random.rand(1) < e:\n",
    "                        a = env.action_space.sample()\n",
    "                    else:\n",
    "                        a = np.argmax(Qs)\n",
    "            else:\n",
    "                    # add random_noise\n",
    "                a =np.argmax(Q[state] + np.random.rand(1,env.action_space.n)/(i_episode+1))\n",
    "\n",
    "            s1, reward, done, _ = env.step(a)\n",
    "\n",
    "            if done:\n",
    "                Qs[0,a] = reward  # Qs는 (1,4) 의 타겟 벡터 형태 (1차원 행렬)\n",
    "            else:\n",
    "                Qs1 = sess.run(Qpred, feed_dict={X:one_hot(s1)})\n",
    "                Qs[0,a] = reward + dis*np.max(Qs1) # greedy한 타겟 \n",
    "\n",
    "            sess.run(train, feed_dict={X: one_hot(s),Y:Qs}) # Q-network 트레이닝\n",
    "\n",
    "            rAll += reward\n",
    "            s = s1\n",
    "        rList.append(rAll)"
   ]
  },
  {
   "cell_type": "code",
   "execution_count": 10,
   "metadata": {
    "collapsed": false,
    "deletable": true,
    "editable": true
   },
   "outputs": [
    {
     "name": "stdout",
     "output_type": "stream",
     "text": [
      "Success rate: 0.574\n",
      "Final Q-Table Values\n",
      "LEFT DOWN RIGHT UP\n"
     ]
    }
   ],
   "source": [
    "print(\"Success rate: \" + str(sum(rList)/num_episodes))\n",
    "print(\"Final Q-Table Values\")\n",
    "print(\"LEFT DOWN RIGHT UP\")"
   ]
  },
  {
   "cell_type": "code",
   "execution_count": 11,
   "metadata": {
    "collapsed": false,
    "deletable": true,
    "editable": true
   },
   "outputs": [
    {
     "data": {
      "text/plain": [
       "2000"
      ]
     },
     "execution_count": 11,
     "metadata": {},
     "output_type": "execute_result"
    }
   ],
   "source": [
    "len(rList)"
   ]
  },
  {
   "cell_type": "code",
   "execution_count": 16,
   "metadata": {
    "collapsed": false,
    "deletable": true,
    "editable": true
   },
   "outputs": [
    {
     "data": {
      "image/png": "[encoded data removed]",
      "text/plain": [
       "<matplotlib.figure.Figure at 0x7f43454b4940>"
      ]
     },
     "metadata": {},
     "output_type": "display_data"
    }
   ],
   "source": [
    "plt.bar(range(len(rList)), rList, color=\"blue\")\n",
    "plt.show()"
   ]
  },
  {
   "cell_type": "markdown",
   "metadata": {
    "collapsed": true,
    "deletable": true,
    "editable": true
   },
   "source": [
    "여전히 Table 방식과 크게 다르지 않다. 당연히 "
   ]
  }
 ],
 "metadata": {
  "kernelspec": {
   "display_name": "Python 3",
   "language": "python",
   "name": "python3"
  },
  "language_info": {
   "codemirror_mode": {
    "name": "ipython",
    "version": 3
   },
   "file_extension": ".py",
   "mimetype": "text/x-python",
   "name": "python",
   "nbconvert_exporter": "python",
   "pygments_lexer": "ipython3",
   "version": "3.4.3"
  }
 },
 "nbformat": 4,
 "nbformat_minor": 2
}
