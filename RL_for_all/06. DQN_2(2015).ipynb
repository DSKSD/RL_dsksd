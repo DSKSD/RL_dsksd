{
 "cells": [
  {
   "cell_type": "markdown",
   "metadata": {},
   "source": [
    "# DQN's three solutions "
   ]
  },
  {
   "cell_type": "markdown",
   "metadata": {},
   "source": [
    "1. Go deep (deep network)\n",
    "2. Experience replay\n",
    "3. <Strong>Separate target network</strong>"
   ]
  },
  {
   "cell_type": "code",
   "execution_count": 28,
   "metadata": {
    "collapsed": true
   },
   "outputs": [],
   "source": [
    "import tensorflow as tf\n",
    "import numpy as np\n",
    "import gym\n",
    "import random\n",
    "from collections import deque\n",
    "import sys"
   ]
  },
  {
   "cell_type": "code",
   "execution_count": 2,
   "metadata": {
    "collapsed": true
   },
   "outputs": [],
   "source": [
    "class DQN:\n",
    "    \n",
    "    def __init__(self, session, input_size, output_size, name=\"main\"):\n",
    "        self.session = session\n",
    "        self.input_size = input_size\n",
    "        self.output_size = output_size\n",
    "        self.net_name = name #  network separate를 위한 variable_scope 이름으로 사용\n",
    "        \n",
    "        self._build_network()\n",
    "     \n",
    "    def _build_network(self, h_size=10, l_rate = 1e-1):\n",
    "        with tf.variable_scope(self.net_name):\n",
    "            self._X = tf.placeholder(\n",
    "            tf.float32, [None, self.input_size],name=\"input_x\")\n",
    "            \n",
    "            W1 = tf.get_variable(\"W1\",shape=[self.input_size,h_size],\n",
    "                                initializer=tf.contrib.layers.xavier_initializer())\n",
    "            layer1 = tf.nn.tanh(tf.matmul(self._X,W1))\n",
    "            \n",
    "            W2 = tf.get_variable(\"W2\",shape=[h_size,self.output_size],\n",
    "                                initializer=tf.contrib.layers.xavier_initializer())\n",
    "            \n",
    "            self._Qpred = tf.matmul(layer1, W2)\n",
    "            \n",
    "        self._Y = tf.placeholder(\n",
    "            shape=[None,self.output_size],dtype=tf.float32)\n",
    "        \n",
    "        self._loss = tf.reduce_mean(tf.square(self._Y - self._Qpred))\n",
    "        \n",
    "        self._train = tf.train.AdamOptimizer(\n",
    "                learning_rate=l_rate).minimize(self._loss)\n",
    "        \n",
    "    def predict(self,state):\n",
    "        x = np.reshape(state, [1, self.input_size])\n",
    "        return self.session.run(self._Qpred, feed_dict={self._X:x})\n",
    "    \n",
    "    def update(self, x_stack, y_stack):\n",
    "        return self.session.run([self._loss, self._train],\n",
    "                    feed_dict={self._X: x_stack, self._Y: y_stack})\n",
    "    "
   ]
  },
  {
   "cell_type": "code",
   "execution_count": 3,
   "metadata": {
    "collapsed": false
   },
   "outputs": [
    {
     "name": "stderr",
     "output_type": "stream",
     "text": [
      "[2017-02-27 16:17:44,846] Making new env: CartPole-v0\n"
     ]
    }
   ],
   "source": [
    "env = gym.make('CartPole-v0')\n",
    "\n",
    "input_size = env.observation_space.shape[0]\n",
    "output_size = env.action_space.n"
   ]
  },
  {
   "cell_type": "code",
   "execution_count": 4,
   "metadata": {
    "collapsed": true
   },
   "outputs": [],
   "source": [
    "dis = 0.9\n",
    "REPLAY_MEMORY = 50000"
   ]
  },
  {
   "cell_type": "code",
   "execution_count": 5,
   "metadata": {
    "collapsed": true
   },
   "outputs": [],
   "source": [
    "def replay_train(mainDQN, targetDQN, train_batch):\n",
    "    x_stack = np.empty(0).reshape(0,mainDQN.input_size)\n",
    "    y_stack = np.empty(0).reshape(0,mainDQN.output_size)\n",
    "    \n",
    "    for state, action, reward, next_state, done in train_batch:\n",
    "        Q = mainDQN.predict(state)\n",
    "        \n",
    "        if done:\n",
    "            Q[0, action] = reward\n",
    "        else:                                                    # 타겟\n",
    "            Q[0, action] = reward + dis * np.max(targetDQN.predict(next_state))\n",
    "        \n",
    "        y_stack = np.vstack([y_stack, Q])\n",
    "        x_stack = np.vstack([x_stack, state])\n",
    "        \n",
    "    return mainDQN.update(x_stack, y_stack)"
   ]
  },
  {
   "cell_type": "code",
   "execution_count": 18,
   "metadata": {
    "collapsed": true
   },
   "outputs": [],
   "source": [
    "def bot_play(mainDQN):\n",
    "    s = env.reset()\n",
    "    reward_sum = 0\n",
    "    while True:\n",
    "        #env.render()\n",
    "        a = np.argmax(mainDQN.predict(s))\n",
    "        s, reward, done, _ = env.step(a)\n",
    "        reward_sum += reward\n",
    "        if done:\n",
    "            print(\"Total score: {}\".format(reward_sum))\n",
    "            break"
   ]
  },
  {
   "cell_type": "markdown",
   "metadata": {},
   "source": [
    "## 네트워크 카피 "
   ]
  },
  {
   "cell_type": "markdown",
   "metadata": {},
   "source": [
    "텐서에 다른 텐서의 Variable assign"
   ]
  },
  {
   "cell_type": "code",
   "execution_count": 7,
   "metadata": {
    "collapsed": true
   },
   "outputs": [],
   "source": [
    "def get_copy_var_ops(*, dest_scope_name=\"target\",src_scope_name=\"main\"):\n",
    "    op_holder = []\n",
    "    \n",
    "    src_vars = tf.get_collection(\n",
    "            tf.GraphKeys.TRAINABLE_VARIABLES, scope=src_scope_name)\n",
    "    dest_vars = tf.get_collection(\n",
    "            tf.GraphKeys.TRAINABLE_VARIABLES, scope=dest_scope_name)\n",
    "    \n",
    "    for src_var, dest_var in zip(src_vars, dest_vars):\n",
    "        op_holder.append(dest_var.assign(src_var.value()))\n",
    "    \n",
    "    return op_holder"
   ]
  },
  {
   "cell_type": "code",
   "execution_count": 39,
   "metadata": {
    "collapsed": true
   },
   "outputs": [],
   "source": [
    "tf.reset_default_graph()"
   ]
  },
  {
   "cell_type": "code",
   "execution_count": 40,
   "metadata": {
    "collapsed": false
   },
   "outputs": [
    {
     "name": "stdout",
     "output_type": "stream",
     "text": [
      "Episode : 511 steps: 307  \n",
      "Yes!!!\n",
      "Test중\n",
      "Total score: 337.0\n"
     ]
    }
   ],
   "source": [
    "max_episodes = 5000\n",
    "    \n",
    "replay_buffer = deque()\n",
    "    \n",
    "with tf.Session() as sess:\n",
    "    mainDQN = DQN(sess, input_size, output_size, name=\"main\")\n",
    "    targetDQN = DQN(sess, input_size, output_size, name=\"target\")\n",
    "    tf.global_variables_initializer().run()\n",
    "    \n",
    "    \n",
    "    copy_ops = get_copy_var_ops(dest_scope_name=\"target\",\n",
    "                                               src_scope_name=\"main\")\n",
    "    \n",
    "    # initial copy\n",
    "    sess.run(copy_ops)\n",
    "    \n",
    "    for episode in range(max_episodes):\n",
    "        e = 1. / ((episode/10)+1)\n",
    "        done = False\n",
    "        step_count = 0\n",
    "        loss = 0\n",
    "        state = env.reset()\n",
    "\n",
    "        while not done:\n",
    "            if np.random.rand(1) < e:\n",
    "                action = env.action_space.sample()\n",
    "            else:\n",
    "                action = np.argmax(mainDQN.predict(state))\n",
    "                    \n",
    "            next_state, reward, done, _ = env.step(action)\n",
    "                \n",
    "            if done:\n",
    "                reward = -100\n",
    "                \n",
    "            replay_buffer.append((state,action,reward,next_state,done))\n",
    "                \n",
    "            if len(replay_buffer) > REPLAY_MEMORY:\n",
    "                replay_buffer.popleft()\n",
    "                \n",
    "            state = next_state\n",
    "            step_count += 1\n",
    "                \n",
    "            if step_count > 10000:\n",
    "                print(\"\\nYes!!!\")\n",
    "                break\n",
    "                \n",
    "\n",
    "        if step_count > 10000:\n",
    "            break\n",
    "        \n",
    "        if episode % 10 == 1:\n",
    "            for _ in range(50):\n",
    "                minibatch = random.sample(list(replay_buffer), 10)\n",
    "                loss, _ = replay_train(mainDQN, targetDQN, minibatch)\n",
    "            \n",
    "            \n",
    "            sys.stdout.write(\"\\rEpisode : {} steps: {} \".format(episode,step_count))\n",
    "            sys.stdout.flush()\n",
    "            #print(\"Loss: \", loss)\n",
    "            # Every C steps reset Q^ = Q  // q_net -> target_net\n",
    "            sess.run(copy_ops)\n",
    "            \n",
    "    print(\"Test중\")\n",
    "    bot_play(mainDQN)"
   ]
  },
  {
   "cell_type": "code",
   "execution_count": null,
   "metadata": {
    "collapsed": true
   },
   "outputs": [],
   "source": []
  },
  {
   "cell_type": "code",
   "execution_count": null,
   "metadata": {
    "collapsed": true
   },
   "outputs": [],
   "source": []
  }
 ],
 "metadata": {
  "kernelspec": {
   "display_name": "Python 3",
   "language": "python",
   "name": "python3"
  },
  "language_info": {
   "codemirror_mode": {
    "name": "ipython",
    "version": 3
   },
   "file_extension": ".py",
   "mimetype": "text/x-python",
   "name": "python",
   "nbconvert_exporter": "python",
   "pygments_lexer": "ipython3",
   "version": "3.5.2"
  }
 },
 "nbformat": 4,
 "nbformat_minor": 2
}
