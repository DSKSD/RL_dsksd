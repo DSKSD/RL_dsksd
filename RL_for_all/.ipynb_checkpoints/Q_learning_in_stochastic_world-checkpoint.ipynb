{
 "cells": [
  {
   "cell_type": "code",
   "execution_count": 1,
   "metadata": {
    "collapsed": false
   },
   "outputs": [],
   "source": [
    "import gym\n",
    "import numpy as np\n",
    "import matplotlib.pyplot as plt\n",
    "import random\n",
    "from gym.envs.registration import register\n",
    "import readchar\n",
    "from IPython.display import clear_output\n",
    "%matplotlib inline"
   ]
  },
  {
   "cell_type": "markdown",
   "metadata": {},
   "source": [
    "# Stochastic World "
   ]
  },
  {
   "cell_type": "markdown",
   "metadata": {},
   "source": [
    "* <strong>In deterministic models</strong> the output of the model is fully detemines by the parameter values and the initial conditions.\n",
    "* <strong>Stochastic models</strong> possess some inherent randomness.\n",
    "  - The same set of parameter values and initial conditions will lead to an ensemble of different outputs."
   ]
  },
  {
   "cell_type": "markdown",
   "metadata": {},
   "source": [
    "### Deterministic World"
   ]
  },
  {
   "cell_type": "code",
   "execution_count": 2,
   "metadata": {
    "collapsed": false
   },
   "outputs": [],
   "source": [
    "register(\n",
    "        id='FrozenLake-v3',\n",
    "        entry_point='gym.envs.toy_text:FrozenLakeEnv',\n",
    "        kwargs={'map_name' : '4x4',\n",
    "                       'is_slippery' : False} \n",
    ")"
   ]
  },
  {
   "cell_type": "code",
   "execution_count": 3,
   "metadata": {
    "collapsed": false
   },
   "outputs": [
    {
     "name": "stderr",
     "output_type": "stream",
     "text": [
      "[2017-02-23 17:42:06,263] Making new env: FrozenLake-v3\n"
     ]
    }
   ],
   "source": [
    "ditermenv = gym.make('FrozenLake-v3')"
   ]
  },
  {
   "cell_type": "code",
   "execution_count": 4,
   "metadata": {
    "collapsed": true
   },
   "outputs": [],
   "source": [
    "LEFT = 0\n",
    "DOWN = 1\n",
    "RIGHT = 2\n",
    "UP = 3"
   ]
  },
  {
   "cell_type": "code",
   "execution_count": 5,
   "metadata": {
    "collapsed": false
   },
   "outputs": [],
   "source": [
    "VALID = ['a','s','d','w']"
   ]
  },
  {
   "cell_type": "code",
   "execution_count": 6,
   "metadata": {
    "collapsed": false
   },
   "outputs": [
    {
     "name": "stdout",
     "output_type": "stream",
     "text": [
      "SFFF\n",
      "FHFH\n",
      "FFFH\n",
      "HFF\u001b[41mG\u001b[0m\n",
      "  (Right)\n",
      "State:  15 Action:  2 Reward:  1.0 Info:  {'prob': 1.0}\n",
      "Finished with reward 1.0\n"
     ]
    }
   ],
   "source": [
    "_ = ditermenv.reset()\n",
    "ditermenv.render()\n",
    "\n",
    "while True:\n",
    "    \n",
    "    key = input()\n",
    "    if key not in VALID:\n",
    "        print(\"Game aborted!\")\n",
    "        break\n",
    "    \n",
    "    action = VALID.index(key)\n",
    "    state, reward, done, info = ditermenv.step(action)\n",
    "    clear_output()\n",
    "    ditermenv.render()\n",
    "    print(\"State: \", state, \"Action: \", action, \"Reward: \",reward,\"Info: \",info)\n",
    "    \n",
    "    if done:\n",
    "        print(\"Finished with reward\", reward)\n",
    "        break"
   ]
  },
  {
   "cell_type": "markdown",
   "metadata": {},
   "source": [
    "### Stochastic World "
   ]
  },
  {
   "cell_type": "code",
   "execution_count": 7,
   "metadata": {
    "collapsed": false
   },
   "outputs": [
    {
     "name": "stderr",
     "output_type": "stream",
     "text": [
      "[2017-02-23 17:43:06,733] Making new env: FrozenLake-v0\n"
     ]
    }
   ],
   "source": [
    "stocenv = gym.make('FrozenLake-v0')"
   ]
  },
  {
   "cell_type": "code",
   "execution_count": 9,
   "metadata": {
    "collapsed": false
   },
   "outputs": [
    {
     "name": "stdout",
     "output_type": "stream",
     "text": [
      "SFFF\n",
      "FHFH\n",
      "FFFH\n",
      "\u001b[41mH\u001b[0mFFG\n",
      "  (Right)\n",
      "State:  12 Action:  2 Reward:  0.0 Info:  {'prob': 0.3333333333333333}\n",
      "Finished with reward 0.0\n"
     ]
    }
   ],
   "source": [
    "_ = stocenv.reset()\n",
    "stocenv.render()\n",
    "\n",
    "while True:\n",
    "    \n",
    "    key = input()\n",
    "    if key not in VALID:\n",
    "        print(\"Game aborted!\")\n",
    "        break\n",
    "    \n",
    "    action = VALID.index(key)\n",
    "    state, reward, done, info = stocenv.step(action)\n",
    "    clear_output()\n",
    "    stocenv.render()\n",
    "    print(\"State: \", state, \"Action: \", action, \"Reward: \",reward,\"Info: \",info)\n",
    "    \n",
    "    if done:\n",
    "        print(\"Finished with reward\", reward)\n",
    "        break"
   ]
  },
  {
   "cell_type": "markdown",
   "metadata": {},
   "source": [
    "### Diterministic에서 하던대로 하면 랜덤보다 안나온다..(alpha 고려  x) "
   ]
  },
  {
   "cell_type": "code",
   "execution_count": 10,
   "metadata": {
    "collapsed": false
   },
   "outputs": [
    {
     "name": "stderr",
     "output_type": "stream",
     "text": [
      "[2017-02-23 17:45:39,240] Making new env: FrozenLake-v0\n"
     ]
    }
   ],
   "source": [
    "env = gym.make('FrozenLake-v0')"
   ]
  },
  {
   "cell_type": "code",
   "execution_count": 11,
   "metadata": {
    "collapsed": true
   },
   "outputs": [],
   "source": [
    "Q = np.zeros([env.observation_space.n,env.action_space.n])\n",
    "num_episodes = 2000\n",
    "dis = .99\n",
    "rList = [] # create lists to contain total rewards and steps per episode\n",
    "EGREEDY = True # True if e-greedy , False if add random_noise"
   ]
  },
  {
   "cell_type": "code",
   "execution_count": 15,
   "metadata": {
    "collapsed": true
   },
   "outputs": [],
   "source": [
    "for i_episode in range(num_episodes):\n",
    "    state = env.reset()\n",
    "    rAll = 0 # 모든 리워드?\n",
    "    done = False\n",
    "    e = 1. / ((i_episode//100)+1)\n",
    "    \n",
    "    while not done: # 한판 끝날 때 까지 해봐서 Q-value를 업데이트를 해나간다\n",
    "        \n",
    "        if EGREEDY:\n",
    "            # e-greedy\n",
    "            if np.random.rand(1) < e:\n",
    "                action = env.action_space.sample()\n",
    "            else:\n",
    "                action = np.argmax(Q[state])\n",
    "        else:\n",
    "            # add random_noise\n",
    "            action =np.argmax(Q[state] + np.random.rand(1,env.action_space.n)/(i_episode+1))\n",
    "        \n",
    "        new_state, reward, done, _ = env.step(action)\n",
    "        Q[state,action] = reward + dis*np.max(Q[new_state])\n",
    "        \n",
    "        rAll += reward\n",
    "        state = new_state\n",
    "    rList.append(rAll)"
   ]
  },
  {
   "cell_type": "code",
   "execution_count": 16,
   "metadata": {
    "collapsed": false
   },
   "outputs": [
    {
     "name": "stdout",
     "output_type": "stream",
     "text": [
      "Success rate: 0.039\n",
      "Final Q-Table Values\n",
      "LEFT DOWN RIGHT UP\n",
      "[[ 0.078651    0.          0.07786449  0.07786449]\n",
      " [ 0.          0.          0.          0.07708584]\n",
      " [ 0.          0.          0.          0.08024793]\n",
      " [ 0.          0.          0.          0.08353973]\n",
      " [ 0.          0.          0.          0.        ]\n",
      " [ 0.          0.          0.          0.        ]\n",
      " [ 0.          0.          0.          0.        ]\n",
      " [ 0.          0.          0.          0.        ]\n",
      " [ 0.          0.          0.          0.        ]\n",
      " [ 0.          0.          0.          0.        ]\n",
      " [ 0.          0.          0.          0.        ]\n",
      " [ 0.          0.          0.          0.        ]\n",
      " [ 0.          0.          0.          0.        ]\n",
      " [ 0.          0.          0.91351725  0.        ]\n",
      " [ 0.          0.93206535  0.93206535  0.96059601]\n",
      " [ 0.          0.          0.          0.        ]]\n"
     ]
    }
   ],
   "source": [
    "print(\"Success rate: \" + str(sum(rList)/num_episodes))\n",
    "print(\"Final Q-Table Values\")\n",
    "print(\"LEFT DOWN RIGHT UP\")\n",
    "print(Q)"
   ]
  },
  {
   "cell_type": "code",
   "execution_count": 17,
   "metadata": {
    "collapsed": false
   },
   "outputs": [
    {
     "data": {
      "image/png": "[encoded data removed]",
      "text/plain": [
       "<matplotlib.figure.Figure at 0x7fcf586de4e0>"
      ]
     },
     "metadata": {},
     "output_type": "display_data"
    }
   ],
   "source": [
    "plt.bar(range(len(rList)), rList, color=\"blue\")\n",
    "plt.show()"
   ]
  },
  {
   "cell_type": "markdown",
   "metadata": {},
   "source": [
    "# Solution? "
   ]
  },
  {
   "cell_type": "markdown",
   "metadata": {},
   "source": [
    "- Listen to Q(s') (just a little bit)\n",
    "- Update Q(s) little bit (learning rate) <hr>\n",
    "Like our Life mentors\n",
    "- Don't just listen and follow one mentor\n",
    "- Need to listen from many mentors"
   ]
  },
  {
   "cell_type": "markdown",
   "metadata": {},
   "source": [
    "# Learning incrementally "
   ]
  },
  {
   "cell_type": "markdown",
   "metadata": {},
   "source": [
    "Target Q의 0.1퍼센트만 반영하여 학습해나가겠다. (멘토의 경험도 다 옳은 것은 아니니 참고만 하겠다)"
   ]
  },
  {
   "cell_type": "markdown",
   "metadata": {},
   "source": [
    "Learning rate, $\\alpha$\n",
    "\n",
    "\n",
    "$Q(s,a)$ <- $Q(s,a) + \\alpha [r + \\gamma max_{a'} Q(s',a') - Q(s,a)]$\n"
   ]
  },
  {
   "cell_type": "code",
   "execution_count": 43,
   "metadata": {
    "collapsed": true
   },
   "outputs": [],
   "source": [
    "Q = np.zeros([env.observation_space.n,env.action_space.n])\n",
    "num_episodes = 3000\n",
    "learning_rate = 0.85\n",
    "rList = [] # create lists to contain total rewards and steps per episode"
   ]
  },
  {
   "cell_type": "code",
   "execution_count": 46,
   "metadata": {
    "collapsed": true
   },
   "outputs": [],
   "source": [
    "for i_episode in range(num_episodes):\n",
    "    state = env.reset()\n",
    "    rAll = 0 # 모든 리워드?\n",
    "    done = False\n",
    "    e = 1. / ((i_episode//100)+1)\n",
    "    \n",
    "    while not done: # 한판 끝날 때 까지 해봐서 Q-value를 업데이트를 해나간다\n",
    "        \n",
    "        if EGREEDY:\n",
    "            # e-greedy\n",
    "            if np.random.rand(1) < e:\n",
    "                action = env.action_space.sample()\n",
    "            else:\n",
    "                action = np.argmax(Q[state])\n",
    "        else:\n",
    "            # add random_noise\n",
    "            action =np.argmax(Q[state] + np.random.rand(1,env.action_space.n)/(i_episode+1))\n",
    "        \n",
    "        new_state, reward, done, _ = env.step(action)\n",
    "        target = reward + dis*np.max(Q[new_state])\n",
    "#         Q[state,action] = (1-learning_rate)*Q[state,action] + \\\n",
    "#                                         learning_rate*(reward + dis*np.max(Q[new_state]))\n",
    "        Q[state,action] += learning_rate*(target - Q[state,action])\n",
    "        rAll += reward\n",
    "        state = new_state\n",
    "    rList.append(rAll)"
   ]
  },
  {
   "cell_type": "code",
   "execution_count": 47,
   "metadata": {
    "collapsed": false
   },
   "outputs": [
    {
     "name": "stdout",
     "output_type": "stream",
     "text": [
      "Success rate: 0.4256666666666667\n",
      "Final Q-Table Values\n",
      "LEFT DOWN RIGHT UP\n",
      "[[  2.12726312e-01   2.85276624e-01   2.86245818e-01   2.95453269e-01]\n",
      " [  5.33471279e-02   2.34888956e-01   5.43489407e-02   2.71244922e-01]\n",
      " [  2.17584569e-01   2.48150400e-01   8.71534988e-02   2.69412456e-01]\n",
      " [  2.55254472e-01   4.71645156e-02   1.14060021e-03   2.69435634e-01]\n",
      " [  2.93543487e-01   9.91617998e-02   2.00361587e-03   2.79806624e-01]\n",
      " [  0.00000000e+00   0.00000000e+00   0.00000000e+00   0.00000000e+00]\n",
      " [  3.15314742e-02   2.13267890e-06   8.95357415e-03   2.69016716e-05]\n",
      " [  0.00000000e+00   0.00000000e+00   0.00000000e+00   0.00000000e+00]\n",
      " [  9.80074478e-02   4.59129357e-02   1.12185473e-01   3.51655530e-01]\n",
      " [  7.01979014e-02   4.37530754e-01   3.50100705e-04   8.04143134e-02]\n",
      " [  1.98596443e-01   6.70807885e-05   6.73161242e-03   1.58619505e-02]\n",
      " [  0.00000000e+00   0.00000000e+00   0.00000000e+00   0.00000000e+00]\n",
      " [  0.00000000e+00   0.00000000e+00   0.00000000e+00   0.00000000e+00]\n",
      " [  1.40620942e-01   2.14537051e-02   7.93332259e-01   1.14091786e-01]\n",
      " [  4.58259775e-01   3.78547546e-01   4.89692186e-01   9.91380073e-01]\n",
      " [  0.00000000e+00   0.00000000e+00   0.00000000e+00   0.00000000e+00]]\n"
     ]
    }
   ],
   "source": [
    "print(\"Success rate: \" + str(sum(rList)/num_episodes))\n",
    "print(\"Final Q-Table Values\")\n",
    "print(\"LEFT DOWN RIGHT UP\")\n",
    "print(Q)"
   ]
  },
  {
   "cell_type": "code",
   "execution_count": 48,
   "metadata": {
    "collapsed": false
   },
   "outputs": [
    {
     "data": {
      "image/png": "[encoded data removed]",
      "text/plain": [
       "<matplotlib.figure.Figure at 0x7fcf3b5c9710>"
      ]
     },
     "metadata": {},
     "output_type": "display_data"
    }
   ],
   "source": [
    "plt.bar(range(len(rList)), rList, color=\"blue\")\n",
    "plt.show()"
   ]
  },
  {
   "cell_type": "code",
   "execution_count": null,
   "metadata": {
    "collapsed": true
   },
   "outputs": [],
   "source": []
  }
 ],
 "metadata": {
  "kernelspec": {
   "display_name": "Python 3",
   "language": "python",
   "name": "python3"
  },
  "language_info": {
   "codemirror_mode": {
    "name": "ipython",
    "version": 3
   },
   "file_extension": ".py",
   "mimetype": "text/x-python",
   "name": "python",
   "nbconvert_exporter": "python",
   "pygments_lexer": "ipython3",
   "version": "3.5.2"
  }
 },
 "nbformat": 4,
 "nbformat_minor": 2
}
