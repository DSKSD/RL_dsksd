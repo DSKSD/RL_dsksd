{
 "cells": [
  {
   "cell_type": "code",
   "execution_count": 1,
   "metadata": {
    "collapsed": false
   },
   "outputs": [],
   "source": [
    "import gym\n",
    "import numpy as np\n",
    "import matplotlib.pyplot as plt\n",
    "import random\n",
    "import tensorflow as tf\n",
    "%matplotlib inline"
   ]
  },
  {
   "cell_type": "code",
   "execution_count": 2,
   "metadata": {
    "collapsed": false
   },
   "outputs": [
    {
     "name": "stderr",
     "output_type": "stream",
     "text": [
      "[2017-02-25 20:29:22,358] Making new env: CartPole-v0\n"
     ]
    }
   ],
   "source": [
    "env = gym.make('CartPole-v0')"
   ]
  },
  {
   "cell_type": "markdown",
   "metadata": {},
   "source": [
    "# 하이퍼파라미터 "
   ]
  },
  {
   "cell_type": "code",
   "execution_count": 11,
   "metadata": {
    "collapsed": true
   },
   "outputs": [],
   "source": [
    "num_episodes = 5000\n",
    "dis = 0.9\n",
    "learning_rate = 0.1\n",
    "rList = [] # create lists to contain total rewards and steps per episode"
   ]
  },
  {
   "cell_type": "code",
   "execution_count": 4,
   "metadata": {
    "collapsed": false
   },
   "outputs": [],
   "source": [
    "input_size = env.observation_space.shape[0] # 4\n",
    "output_size = env.action_space.n # 2"
   ]
  },
  {
   "cell_type": "markdown",
   "metadata": {},
   "source": [
    "# 모델 빌드 "
   ]
  },
  {
   "cell_type": "code",
   "execution_count": 5,
   "metadata": {
    "collapsed": false
   },
   "outputs": [],
   "source": [
    "X = tf.placeholder(tf.float32,[None,input_size],name=\"input_x\")\n",
    "Y = tf.placeholder(shape=[None,output_size],dtype=tf.float32)\n",
    "\n",
    "# Variable에 이름을 지을 수 있고, 별도의 이니셜라이저를 쓸 수 있다.\n",
    "W = tf.get_variable(\"W\", shape=[input_size,output_size],\n",
    "                   initializer=tf.contrib.layers.xavier_initializer())\n",
    "Qpred = tf.matmul(X,W)"
   ]
  },
  {
   "cell_type": "code",
   "execution_count": 6,
   "metadata": {
    "collapsed": true
   },
   "outputs": [],
   "source": [
    "loss = tf.reduce_sum(tf.square(Y-Qpred))\n",
    "train = tf.train.AdamOptimizer(learning_rate=learning_rate).minimize(loss)"
   ]
  },
  {
   "cell_type": "markdown",
   "metadata": {},
   "source": [
    "# 트레이닝 "
   ]
  },
  {
   "cell_type": "code",
   "execution_count": 13,
   "metadata": {
    "collapsed": true
   },
   "outputs": [],
   "source": [
    "sess = tf.Session()\n",
    "sess.run(tf.global_variables_initializer())"
   ]
  },
  {
   "cell_type": "code",
   "execution_count": 15,
   "metadata": {
    "collapsed": false
   },
   "outputs": [
    {
     "name": "stdout",
     "output_type": "stream",
     "text": [
      "Episode : 0 steps: 21\n",
      "Episode : 100 steps: 15\n",
      "Episode : 200 steps: 37\n",
      "Episode : 300 steps: 13\n",
      "Episode : 400 steps: 31\n",
      "Episode : 500 steps: 55\n",
      "Episode : 600 steps: 28\n",
      "Episode : 700 steps: 10\n",
      "Episode : 800 steps: 20\n",
      "Episode : 900 steps: 8\n",
      "Episode : 1000 steps: 14\n",
      "Episode : 1100 steps: 25\n",
      "Episode : 1200 steps: 31\n",
      "Episode : 1300 steps: 31\n",
      "Episode : 1400 steps: 38\n",
      "Episode : 1500 steps: 29\n",
      "Episode : 1600 steps: 16\n",
      "Episode : 1700 steps: 19\n",
      "Episode : 1800 steps: 13\n",
      "Episode : 1900 steps: 23\n",
      "Episode : 2000 steps: 14\n",
      "Episode : 2100 steps: 23\n",
      "Episode : 2200 steps: 9\n",
      "Episode : 2300 steps: 18\n",
      "Episode : 2400 steps: 38\n",
      "Episode : 2500 steps: 11\n",
      "Episode : 2600 steps: 21\n",
      "Episode : 2700 steps: 13\n",
      "Episode : 2800 steps: 40\n",
      "Episode : 2900 steps: 38\n",
      "Episode : 3000 steps: 18\n",
      "Episode : 3100 steps: 16\n",
      "Episode : 3200 steps: 8\n",
      "Episode : 3300 steps: 9\n",
      "Episode : 3400 steps: 14\n",
      "Episode : 3500 steps: 14\n",
      "Episode : 3600 steps: 13\n",
      "Episode : 3700 steps: 16\n",
      "Episode : 3800 steps: 10\n",
      "Episode : 3900 steps: 41\n",
      "Episode : 4000 steps: 9\n",
      "Episode : 4100 steps: 31\n",
      "Episode : 4200 steps: 17\n",
      "Episode : 4300 steps: 17\n",
      "Episode : 4400 steps: 21\n",
      "Episode : 4500 steps: 27\n",
      "Episode : 4600 steps: 38\n",
      "Episode : 4700 steps: 11\n",
      "Episode : 4800 steps: 9\n",
      "Episode : 4900 steps: 14\n"
     ]
    }
   ],
   "source": [
    "for i_episode in range(num_episodes):\n",
    "                    \n",
    "    s = env.reset()\n",
    "    rAll = 0 # 모든 리워드?\n",
    "    done = False\n",
    "    step_count= 0 \n",
    "    e = 1. / ((i_episode//50)+10) # 엡실론 디케이 \n",
    "\n",
    "    while not done: # 한판 끝날 때 까지 해봐서 Q-value를 업데이트를 해나간다\n",
    "            \n",
    "            # 오래 세울수록 좋기 때문에 이를 센다\n",
    "        step_count += 1\n",
    "            \n",
    "        x = np.reshape(s, [1,input_size])\n",
    "            \n",
    "        Qs = sess.run(Qpred,feed_dict={X: x})\n",
    "\n",
    "                    # e-greedy\n",
    "        if np.random.rand(1) < e:\n",
    "              a = env.action_space.sample()\n",
    "        else:\n",
    "            a = np.argmax(Qs)\n",
    "           \n",
    "\n",
    "        s1, reward, done, _ = env.step(a)\n",
    "\n",
    "        if done:\n",
    "                # 막대기를 넘어뜨리면 크게 혼낸다!\n",
    "            Qs[0,a] = -100  # Qs는 (1,4) 의 타겟 벡터 형태 (1차원 행렬)\n",
    "        else:\n",
    "            x1 = np.reshape(s1, [1,input_size])\n",
    "                \n",
    "            Qs1 = sess.run(Qpred, feed_dict={X:x1})\n",
    "            Qs[0,a] = reward + dis*np.max(Qs1) # greedy한 타겟 \n",
    "\n",
    "        sess.run(train, feed_dict={X: x,Y:Qs}) # Q-network 트레이닝\n",
    "\n",
    "        rAll += reward\n",
    "        s = s1\n",
    "            \n",
    "    rList.append(step_count)\n",
    "    if i_episode % 100 == 0:\n",
    "        print(\"Episode : {} steps: {}\".format(i_episode,step_count))\n",
    "    if len(rList) > 10 and np.mean(rList[-10:]) > 500:\n",
    "        break"
   ]
  },
  {
   "cell_type": "markdown",
   "metadata": {},
   "source": [
    "# 테스트 "
   ]
  },
  {
   "cell_type": "code",
   "execution_count": 16,
   "metadata": {
    "collapsed": false
   },
   "outputs": [
    {
     "name": "stdout",
     "output_type": "stream",
     "text": [
      "Total score: 36.0\n"
     ]
    }
   ],
   "source": [
    "observation = env.reset()\n",
    "reward_sum = 0\n",
    "while True:\n",
    "    #env.render()\n",
    "    \n",
    "    x = np.reshape(observation, [1,input_size])\n",
    "    Qs = sess.run(Qpred, feed_dict={X: x})\n",
    "    a = np.argmax(Qs)\n",
    "    \n",
    "    observation, reward, done, _ = env.step(a)\n",
    "    reward_sum += reward\n",
    "    if done:\n",
    "        print(\"Total score: {}\".format(reward_sum))\n",
    "        break"
   ]
  },
  {
   "cell_type": "markdown",
   "metadata": {},
   "source": [
    "#### 안타깝게도 이 방법으로는 잘 훈련되지 않는다ㅠㅠ"
   ]
  },
  {
   "cell_type": "markdown",
   "metadata": {},
   "source": [
    "1. 일단 네트워크가 too shallow (input, output layer만.. feature도 4개 밖에,,)\n",
    "2. Correlations between samples\n",
    "3. Non-stationary targets"
   ]
  },
  {
   "cell_type": "markdown",
   "metadata": {},
   "source": [
    "### DQN / Replay Memory! "
   ]
  },
  {
   "cell_type": "code",
   "execution_count": null,
   "metadata": {
    "collapsed": true
   },
   "outputs": [],
   "source": []
  }
 ],
 "metadata": {
  "kernelspec": {
   "display_name": "Python 3",
   "language": "python",
   "name": "python3"
  },
  "language_info": {
   "codemirror_mode": {
    "name": "ipython",
    "version": 3
   },
   "file_extension": ".py",
   "mimetype": "text/x-python",
   "name": "python",
   "nbconvert_exporter": "python",
   "pygments_lexer": "ipython3",
   "version": "3.4.3"
  }
 },
 "nbformat": 4,
 "nbformat_minor": 0
}
