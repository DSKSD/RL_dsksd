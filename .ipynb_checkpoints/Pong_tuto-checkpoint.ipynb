{
 "cells": [
  {
   "cell_type": "markdown",
   "metadata": {},
   "source": [
    "# 강화학습 튜토리얼\n",
    "## 인공 신경망으로 Pong을 학습시키자"
   ]
  },
  {
   "cell_type": "markdown",
   "metadata": {},
   "source": [
    "* 원문 : http://karpathy.github.io/2016/05/31/rl/\n",
    "* 번역 : http://keunwoochoi.blogspot.kr/2016/06/andrej-karpathy.html"
   ]
  },
  {
   "cell_type": "markdown",
   "metadata": {},
   "source": [
    "## 패키지 임포트 "
   ]
  },
  {
   "cell_type": "code",
   "execution_count": 1,
   "metadata": {
    "collapsed": true
   },
   "outputs": [],
   "source": [
    "import numpy as np\n",
    "import cPickle as pickle\n",
    "import gym"
   ]
  },
  {
   "cell_type": "code",
   "execution_count": 2,
   "metadata": {
    "collapsed": false
   },
   "outputs": [],
   "source": [
    "from IPython.display import Image"
   ]
  },
  {
   "cell_type": "markdown",
   "metadata": {},
   "source": [
    "## 하이퍼파라미터 "
   ]
  },
  {
   "cell_type": "markdown",
   "metadata": {},
   "source": [
    "* 히든 레이어의 뉴런 200개\n",
    "* 배치 사이즈 10개씩\n",
    "* 러닝 레이트는 0.0001\n",
    "* discount factor 0.99 <현 상태의 보상 대비 다음 스텝의 보상의 가치의 비율>\n",
    "* RMSProp의 decay_rate 0.99\n",
    "* resume (True)면 저장된 체크포인트에서 모델 불러온다.\n",
    "* render (True)면 매 step의 agent와 environment를 렌더링한다.(화면 출력)"
   ]
  },
  {
   "cell_type": "code",
   "execution_count": 3,
   "metadata": {
    "collapsed": true
   },
   "outputs": [],
   "source": [
    "# hyperparameters\n",
    "H = 200 # number of hidden layer neurons\n",
    "batch_size = 10 # every how many episodes to do a param update?\n",
    "learning_rate = 1e-4\n",
    "gamma = 0.99 # discount factor for reward\n",
    "decay_rate = 0.99 # decay factor for RMSProp leaky sum of grad^2\n",
    "resume = True # resume from previous checkpoint?\n",
    "render = False"
   ]
  },
  {
   "cell_type": "markdown",
   "metadata": {},
   "source": [
    "## 모델 초기화 "
   ]
  },
  {
   "cell_type": "markdown",
   "metadata": {},
   "source": [
    "http://ishuca.tistory.com/entry/CS231n-Neural-Networks-Part-3-Learning-and-Evaluation-%ED%95%9C%EA%B5%AD%EC%96%B4-%EB%B2%88%EC%97%AD\n",
    "\n",
    "체크포인트가 존재하면 그 모델을 픽클로 불러오고 아니라면 2 layer를 가진 인공신경망의 weights를 저장할 model dictionary와 각 weights들의 gradient를 업데이트에 사용하기 위해 저장할 공간인 grad_buffer, rmsprop optimizer의 cache값을 저장할 rmsprop_cache를 dictionary 형태로 초기화한다. (RMSprop에 관한 설명은 위 링크 참고)"
   ]
  },
  {
   "cell_type": "code",
   "execution_count": 6,
   "metadata": {
    "collapsed": false
   },
   "outputs": [
    {
     "data": {
      "text/plain": [
       "array([[ 1.19072044,  1.4974702 , -0.14425513],\n",
       "       [ 1.24759543, -0.34712257, -0.90154552]])"
      ]
     },
     "execution_count": 6,
     "metadata": {},
     "output_type": "execute_result"
    }
   ],
   "source": [
    "np.random.randn(2,3)"
   ]
  },
  {
   "cell_type": "code",
   "execution_count": 14,
   "metadata": {
    "collapsed": false
   },
   "outputs": [
    {
     "data": {
      "text/plain": [
       "array([0, 0])"
      ]
     },
     "execution_count": 14,
     "metadata": {},
     "output_type": "execute_result"
    }
   ],
   "source": [
    "np.zeros_like([1,1])"
   ]
  },
  {
   "cell_type": "code",
   "execution_count": 4,
   "metadata": {
    "collapsed": true
   },
   "outputs": [],
   "source": [
    "# model initialization\n",
    "D = 80 * 80 # input dimensionality: 80x80 grid\n",
    "if resume:\n",
    "    model = pickle.load(open('save.p', 'rb'))\n",
    "else:\n",
    "    model = {}\n",
    "    model['W1'] = np.random.randn(H,D) / np.sqrt(D) # \"Xavier\" initialization\n",
    "    model['W2'] = np.random.randn(H) / np.sqrt(H)\n",
    "    \n",
    "grad_buffer = { k : np.zeros_like(v) for k,v in model.iteritems() } # update buffers that add up gradients over a batch\n",
    "rmsprop_cache = { k : np.zeros_like(v) for k,v in model.iteritems() } # rmsprop memory\n"
   ]
  },
  {
   "cell_type": "markdown",
   "metadata": {},
   "source": [
    "### Input 전처리 "
   ]
  },
  {
   "cell_type": "markdown",
   "metadata": {},
   "source": [
    "연산량을 줄이기 위해 210x160x3의 프레임을 80x80(6400)의 1차원 벡터로 전처리한다."
   ]
  },
  {
   "cell_type": "code",
   "execution_count": 5,
   "metadata": {
    "collapsed": false
   },
   "outputs": [],
   "source": [
    "def prepro(I):\n",
    "    \"\"\" prepro 210x160x3 uint8 frame into 6400 (80x80) 1D float vector \"\"\"\n",
    "    I = I[35:195] # crop\n",
    "    I = I[::2,::2,0] # downsample by factor of 2\n",
    "    I[I == 144] = 0 # erase background (background type 1)\n",
    "    I[I == 109] = 0 # erase background (background type 2)\n",
    "    I[I != 0] = 1 # everything else (paddles, ball) just set to 1\n",
    "    return I.astype(np.float).ravel()"
   ]
  },
  {
   "cell_type": "markdown",
   "metadata": {},
   "source": [
    "### Binary Output layer를 위한 Sigmoid 정의"
   ]
  },
  {
   "cell_type": "code",
   "execution_count": 6,
   "metadata": {
    "collapsed": true
   },
   "outputs": [],
   "source": [
    "def sigmoid(x): \n",
    "    return 1.0 / (1.0 + np.exp(-x)) # sigmoid \"squashing\" function to interval [0,1]"
   ]
  },
  {
   "cell_type": "markdown",
   "metadata": {},
   "source": [
    "## Policy Network "
   ]
  },
  {
   "cell_type": "markdown",
   "metadata": {},
   "source": [
    "우선 정책망을 우리의 선수(player) 혹은 요원 (agent)라고 정의하자. 정책망은 현재 게임의 상태가 어떤지를 입력으로 받고 이를 토대로 우리가 어떤 행동을 취해야하는지 (UP or DOWN; 막대기를 위로 올릴지 아래로 내릴지)를 판단한다. 데이터(화면)과 레이블(행동) 사이를 인공 신경망으로 이어주자. 여기에서는 층이 2개인 인공 신경망을 사용할 것이다. 여기에서 입력은 100,800 (210 * 160 * 3)개의 노드가 되고 최종적으로 UP이 될 확률이 출력이 될 것이다. 이 구성은 흔하게 쓰이는 Stochastic 정책이다. (어떤 선택을 내릴지의 확률을 구하는 경우 여기에 해당한다.) 학습 과정에서 우리는 이 확률 분포를 토대로 어떤 행동을 취할 것인지를 샘플링을 한다. 예를 들어 70%의 확률로 UP인 상황이라면 p(UP):p(DOWN) = 7:3인 동전을 튀겨서 나온 결과를 사용한다. 이렇게 하는 이유는 뒤에서 설명하겠다."
   ]
  },
  {
   "cell_type": "code",
   "execution_count": 7,
   "metadata": {
    "collapsed": true
   },
   "outputs": [],
   "source": [
    "def policy_forward(x):\n",
    "    # 2 layer의 NN\n",
    "    # Output layer는 sigmoid(binary)\n",
    "    h = np.dot(model['W1'], x)\n",
    "    h[h<0] = 0 # ReLU nonlinearity\n",
    "    logp = np.dot(model['W2'], h)\n",
    "    p = sigmoid(logp)\n",
    "    return p, h \n",
    "# Agent가 올라갈 확률(action 2), hidden state 리턴"
   ]
  },
  {
   "cell_type": "markdown",
   "metadata": {},
   "source": [
    "## Discount_rewards "
   ]
  },
  {
   "cell_type": "code",
   "execution_count": 17,
   "metadata": {
    "collapsed": false
   },
   "outputs": [
    {
     "data": {
      "image/jpeg": "[encoded data removed]",
      "text/plain": [
       "<IPython.core.display.Image object>"
      ]
     },
     "execution_count": 17,
     "metadata": {},
     "output_type": "execute_result"
    }
   ],
   "source": [
    "Image('./image/pong_tuto_1.jpg')"
   ]
  },
  {
   "cell_type": "code",
   "execution_count": 8,
   "metadata": {
    "collapsed": true
   },
   "outputs": [],
   "source": [
    "def discount_rewards(r):\n",
    "    \"\"\" take 1D float array of rewards and compute discounted reward \"\"\"\n",
    "    discounted_r = np.zeros_like(r)\n",
    "    running_add = 0\n",
    "    for t in reversed(xrange(0, r.size)):\n",
    "        if r[t] != 0: running_add = 0 # reset the sum, since this was a game boundary (pong specific!)\n",
    "        running_add = running_add * gamma + r[t]\n",
    "        discounted_r[t] = running_add\n",
    "    return discounted_r"
   ]
  },
  {
   "cell_type": "markdown",
   "metadata": {},
   "source": [
    "np.outer(a,b) // 벡터의 외적"
   ]
  },
  {
   "cell_type": "code",
   "execution_count": 9,
   "metadata": {
    "collapsed": true
   },
   "outputs": [],
   "source": [
    "def policy_backward(eph, epdlogp):\n",
    "    \"\"\" backward pass. (eph is array of intermediate hidden states) \"\"\"\n",
    "    dW2 = np.dot(eph.T, epdlogp).ravel()\n",
    "    dh = np.outer(epdlogp, model['W2'])\n",
    "    dh[eph <= 0] = 0 # backpro prelu\n",
    "    dW1 = np.dot(dh.T, epx)\n",
    "    return {'W1':dW1, 'W2':dW2}"
   ]
  },
  {
   "cell_type": "markdown",
   "metadata": {},
   "source": [
    "## Environment 셋팅 "
   ]
  },
  {
   "cell_type": "code",
   "execution_count": 10,
   "metadata": {
    "collapsed": false
   },
   "outputs": [
    {
     "name": "stderr",
     "output_type": "stream",
     "text": [
      "[2016-10-30 22:56:50,518] Making new env: Pong-v0\n"
     ]
    }
   ],
   "source": [
    "env = gym.make(\"Pong-v0\")\n",
    "observation = env.reset()\n",
    "prev_x = None # used in computing the difference frame\n",
    "xs,hs,dlogps,drs = [],[],[],[]\n",
    "running_reward = None\n",
    "reward_sum = 0 # 전체 보상을 더할 카운터\n",
    "episode_number = 0 # 에피소드 카운터(몇 판했는지)"
   ]
  },
  {
   "cell_type": "code",
   "execution_count": 21,
   "metadata": {
    "collapsed": false
   },
   "outputs": [
    {
     "name": "stdout",
     "output_type": "stream",
     "text": [
      "Discrete(6)\n",
      "Box(210, 160, 3)\n"
     ]
    }
   ],
   "source": [
    "print(env.action_space)\n",
    "print(env.observation_space)"
   ]
  },
  {
   "cell_type": "code",
   "execution_count": 22,
   "metadata": {
    "collapsed": false
   },
   "outputs": [
    {
     "data": {
      "text/plain": [
       "(210, 160, 3)"
      ]
     },
     "execution_count": 22,
     "metadata": {},
     "output_type": "execute_result"
    }
   ],
   "source": [
    "observation.shape"
   ]
  },
  {
   "cell_type": "code",
   "execution_count": 23,
   "metadata": {
    "collapsed": false
   },
   "outputs": [
    {
     "name": "stdout",
     "output_type": "stream",
     "text": [
      "(6400,)\n"
     ]
    }
   ],
   "source": [
    "test = prepro(observation)\n",
    "print test.shape"
   ]
  },
  {
   "cell_type": "code",
   "execution_count": 12,
   "metadata": {
    "collapsed": false
   },
   "outputs": [
    {
     "name": "stdout",
     "output_type": "stream",
     "text": [
      "resetting env. episode reward total was -20.000000. running mean: -20.000000\n",
      "ep 1: game finished, reward: -1.000000\n",
      "resetting env. episode reward total was -21.000000. running mean: -20.010000\n",
      "ep 2: game finished, reward: -1.000000\n",
      "resetting env. episode reward total was -19.000000. running mean: -19.999900\n",
      "ep 3: game finished, reward: -1.000000\n",
      "resetting env. episode reward total was -21.000000. running mean: -20.009901\n",
      "ep 4: game finished, reward: -1.000000\n",
      "resetting env. episode reward total was -21.000000. running mean: -20.019802\n",
      "ep 5: game finished, reward: -1.000000\n",
      "resetting env. episode reward total was -20.000000. running mean: -20.019604\n",
      "ep 6: game finished, reward: -1.000000\n",
      "resetting env. episode reward total was -20.000000. running mean: -20.019408\n",
      "ep 7: game finished, reward: -1.000000\n",
      "resetting env. episode reward total was -21.000000. running mean: -20.029214\n",
      "ep 8: game finished, reward: -1.000000\n",
      "resetting env. episode reward total was -19.000000. running mean: -20.018922\n",
      "ep 9: game finished, reward: -1.000000\n",
      "resetting env. episode reward total was -21.000000. running mean: -20.028732\n",
      "ep 10: game finished, reward: -1.000000\n",
      "resetting env. episode reward total was -21.000000. running mean: -20.038445\n",
      "ep 11: game finished, reward: -1.000000\n",
      "resetting env. episode reward total was -21.000000. running mean: -20.048061\n",
      "ep 12: game finished, reward: -1.000000\n",
      "resetting env. episode reward total was -21.000000. running mean: -20.057580\n",
      "ep 13: game finished, reward: -1.000000\n",
      "resetting env. episode reward total was -18.000000. running mean: -20.037004\n",
      "ep 14: game finished, reward: -1.000000\n",
      "resetting env. episode reward total was -20.000000. running mean: -20.036634\n",
      "ep 15: game finished, reward: -1.000000\n",
      "resetting env. episode reward total was -20.000000. running mean: -20.036268\n",
      "ep 16: game finished, reward: -1.000000\n",
      "resetting env. episode reward total was -20.000000. running mean: -20.035905\n",
      "ep 17: game finished, reward: -1.000000\n",
      "resetting env. episode reward total was -21.000000. running mean: -20.045546\n",
      "ep 18: game finished, reward: -1.000000\n",
      "resetting env. episode reward total was -21.000000. running mean: -20.055091\n",
      "ep 19: game finished, reward: -1.000000\n",
      "resetting env. episode reward total was -19.000000. running mean: -20.044540\n",
      "ep 20: game finished, reward: -1.000000\n",
      "resetting env. episode reward total was -20.000000. running mean: -20.044094\n",
      "ep 21: game finished, reward: -1.000000\n",
      "resetting env. episode reward total was -21.000000. running mean: -20.053653\n",
      "ep 22: game finished, reward: -1.000000\n",
      "resetting env. episode reward total was -21.000000. running mean: -20.063117\n",
      "ep 23: game finished, reward: -1.000000\n",
      "resetting env. episode reward total was -21.000000. running mean: -20.072486\n",
      "ep 24: game finished, reward: -1.000000\n",
      "resetting env. episode reward total was -21.000000. running mean: -20.081761\n",
      "ep 25: game finished, reward: -1.000000\n",
      "resetting env. episode reward total was -20.000000. running mean: -20.080943\n",
      "ep 26: game finished, reward: -1.000000\n",
      "resetting env. episode reward total was -20.000000. running mean: -20.080134\n",
      "ep 27: game finished, reward: -1.000000\n",
      "resetting env. episode reward total was -21.000000. running mean: -20.089333\n",
      "ep 28: game finished, reward: -1.000000\n",
      "resetting env. episode reward total was -21.000000. running mean: -20.098439\n",
      "ep 29: game finished, reward: -1.000000\n",
      "resetting env. episode reward total was -20.000000. running mean: -20.097455\n",
      "ep 30: game finished, reward: -1.000000\n",
      "resetting env. episode reward total was -20.000000. running mean: -20.096480\n",
      "ep 31: game finished, reward: -1.000000\n",
      "resetting env. episode reward total was -20.000000. running mean: -20.095515\n",
      "ep 32: game finished, reward: -1.000000\n",
      "resetting env. episode reward total was -18.000000. running mean: -20.074560\n",
      "ep 33: game finished, reward: -1.000000\n",
      "resetting env. episode reward total was -20.000000. running mean: -20.073815\n",
      "ep 34: game finished, reward: -1.000000\n",
      "resetting env. episode reward total was -19.000000. running mean: -20.063077\n",
      "ep 35: game finished, reward: -1.000000\n",
      "resetting env. episode reward total was -20.000000. running mean: -20.062446\n",
      "ep 36: game finished, reward: -1.000000\n",
      "resetting env. episode reward total was -19.000000. running mean: -20.051821\n",
      "ep 37: game finished, reward: -1.000000\n",
      "resetting env. episode reward total was -19.000000. running mean: -20.041303\n",
      "ep 38: game finished, reward: -1.000000\n",
      "resetting env. episode reward total was -20.000000. running mean: -20.040890\n",
      "ep 39: game finished, reward: -1.000000\n",
      "resetting env. episode reward total was -21.000000. running mean: -20.050481\n",
      "ep 40: game finished, reward: -1.000000\n",
      "resetting env. episode reward total was -20.000000. running mean: -20.049976\n",
      "ep 41: game finished, reward: -1.000000\n",
      "resetting env. episode reward total was -20.000000. running mean: -20.049477\n",
      "ep 42: game finished, reward: -1.000000\n",
      "resetting env. episode reward total was -20.000000. running mean: -20.048982\n",
      "ep 43: game finished, reward: -1.000000\n",
      "resetting env. episode reward total was -19.000000. running mean: -20.038492\n",
      "ep 44: game finished, reward: -1.000000\n",
      "resetting env. episode reward total was -19.000000. running mean: -20.028107\n",
      "ep 45: game finished, reward: -1.000000\n",
      "resetting env. episode reward total was -21.000000. running mean: -20.037826\n",
      "ep 46: game finished, reward: -1.000000\n",
      "resetting env. episode reward total was -19.000000. running mean: -20.027448\n",
      "ep 47: game finished, reward: -1.000000\n",
      "resetting env. episode reward total was -21.000000. running mean: -20.037173\n",
      "ep 48: game finished, reward: -1.000000\n",
      "resetting env. episode reward total was -21.000000. running mean: -20.046802\n",
      "ep 49: game finished, reward: -1.000000\n",
      "resetting env. episode reward total was -18.000000. running mean: -20.026334\n",
      "ep 50: game finished, reward: -1.000000\n",
      "resetting env. episode reward total was -21.000000. running mean: -20.036070\n",
      "ep 51: game finished, reward: -1.000000\n",
      "resetting env. episode reward total was -20.000000. running mean: -20.035710\n",
      "ep 52: game finished, reward: -1.000000\n",
      "resetting env. episode reward total was -21.000000. running mean: -20.045352\n",
      "ep 53: game finished, reward: -1.000000\n",
      "resetting env. episode reward total was -20.000000. running mean: -20.044899\n",
      "ep 54: game finished, reward: -1.000000\n",
      "resetting env. episode reward total was -21.000000. running mean: -20.054450\n",
      "ep 55: game finished, reward: -1.000000\n",
      "resetting env. episode reward total was -19.000000. running mean: -20.043905\n",
      "ep 56: game finished, reward: -1.000000\n",
      "resetting env. episode reward total was -21.000000. running mean: -20.053466\n",
      "ep 57: game finished, reward: -1.000000\n",
      "resetting env. episode reward total was -20.000000. running mean: -20.052932\n",
      "ep 58: game finished, reward: -1.000000\n",
      "resetting env. episode reward total was -21.000000. running mean: -20.062402\n",
      "ep 59: game finished, reward: -1.000000\n",
      "resetting env. episode reward total was -21.000000. running mean: -20.071778\n",
      "ep 60: game finished, reward: -1.000000\n",
      "resetting env. episode reward total was -21.000000. running mean: -20.081061\n",
      "ep 61: game finished, reward: -1.000000\n",
      "resetting env. episode reward total was -21.000000. running mean: -20.090250\n",
      "ep 62: game finished, reward: -1.000000\n",
      "resetting env. episode reward total was -21.000000. running mean: -20.099347\n",
      "ep 63: game finished, reward: -1.000000\n",
      "resetting env. episode reward total was -21.000000. running mean: -20.108354\n",
      "ep 64: game finished, reward: -1.000000\n",
      "resetting env. episode reward total was -21.000000. running mean: -20.117270\n",
      "ep 65: game finished, reward: -1.000000\n",
      "resetting env. episode reward total was -21.000000. running mean: -20.126098\n",
      "ep 66: game finished, reward: -1.000000\n",
      "resetting env. episode reward total was -20.000000. running mean: -20.124837\n",
      "ep 67: game finished, reward: -1.000000\n",
      "resetting env. episode reward total was -20.000000. running mean: -20.123588\n",
      "ep 68: game finished, reward: -1.000000\n",
      "resetting env. episode reward total was -20.000000. running mean: -20.122353\n",
      "ep 69: game finished, reward: -1.000000\n",
      "resetting env. episode reward total was -20.000000. running mean: -20.121129\n",
      "ep 70: game finished, reward: -1.000000\n",
      "resetting env. episode reward total was -20.000000. running mean: -20.119918\n",
      "ep 71: game finished, reward: -1.000000\n",
      "resetting env. episode reward total was -21.000000. running mean: -20.128719\n",
      "ep 72: game finished, reward: -1.000000\n",
      "resetting env. episode reward total was -21.000000. running mean: -20.137431\n",
      "ep 73: game finished, reward: -1.000000\n",
      "resetting env. episode reward total was -21.000000. running mean: -20.146057\n",
      "ep 74: game finished, reward: -1.000000\n",
      "resetting env. episode reward total was -21.000000. running mean: -20.154596\n",
      "ep 75: game finished, reward: -1.000000\n",
      "resetting env. episode reward total was -19.000000. running mean: -20.143050\n",
      "ep 76: game finished, reward: -1.000000\n",
      "resetting env. episode reward total was -18.000000. running mean: -20.121620\n",
      "ep 77: game finished, reward: -1.000000\n",
      "resetting env. episode reward total was -21.000000. running mean: -20.130404\n",
      "ep 78: game finished, reward: -1.000000\n",
      "resetting env. episode reward total was -20.000000. running mean: -20.129100\n",
      "ep 79: game finished, reward: -1.000000\n",
      "resetting env. episode reward total was -19.000000. running mean: -20.117809\n",
      "ep 80: game finished, reward: -1.000000\n",
      "resetting env. episode reward total was -21.000000. running mean: -20.126631\n",
      "ep 81: game finished, reward: -1.000000\n",
      "resetting env. episode reward total was -19.000000. running mean: -20.115364\n",
      "ep 82: game finished, reward: -1.000000\n",
      "resetting env. episode reward total was -20.000000. running mean: -20.114211\n",
      "ep 83: game finished, reward: -1.000000\n",
      "resetting env. episode reward total was -21.000000. running mean: -20.123069\n",
      "ep 84: game finished, reward: -1.000000\n",
      "resetting env. episode reward total was -19.000000. running mean: -20.111838\n",
      "ep 85: game finished, reward: -1.000000\n",
      "resetting env. episode reward total was -21.000000. running mean: -20.120720\n",
      "ep 86: game finished, reward: -1.000000\n",
      "resetting env. episode reward total was -20.000000. running mean: -20.119512\n",
      "ep 87: game finished, reward: -1.000000\n",
      "resetting env. episode reward total was -21.000000. running mean: -20.128317\n",
      "ep 88: game finished, reward: -1.000000\n",
      "resetting env. episode reward total was -20.000000. running mean: -20.127034\n",
      "ep 89: game finished, reward: -1.000000\n",
      "resetting env. episode reward total was -21.000000. running mean: -20.135764\n",
      "ep 90: game finished, reward: -1.000000\n",
      "resetting env. episode reward total was -21.000000. running mean: -20.144406\n",
      "ep 91: game finished, reward: -1.000000\n",
      "resetting env. episode reward total was -21.000000. running mean: -20.152962\n",
      "ep 92: game finished, reward: -1.000000\n",
      "resetting env. episode reward total was -20.000000. running mean: -20.151432\n",
      "ep 93: game finished, reward: -1.000000\n",
      "resetting env. episode reward total was -20.000000. running mean: -20.149918\n",
      "ep 94: game finished, reward: -1.000000\n",
      "resetting env. episode reward total was -19.000000. running mean: -20.138419\n",
      "ep 95: game finished, reward: -1.000000\n",
      "resetting env. episode reward total was -21.000000. running mean: -20.147035\n",
      "ep 96: game finished, reward: -1.000000\n",
      "resetting env. episode reward total was -20.000000. running mean: -20.145564\n",
      "ep 97: game finished, reward: -1.000000\n",
      "resetting env. episode reward total was -19.000000. running mean: -20.134109\n",
      "ep 98: game finished, reward: -1.000000\n",
      "resetting env. episode reward total was -19.000000. running mean: -20.122768\n",
      "ep 99: game finished, reward: -1.000000\n",
      "resetting env. episode reward total was -19.000000. running mean: -20.111540\n",
      "ep 100: game finished, reward: -1.000000\n"
     ]
    },
    {
     "ename": "KeyboardInterrupt",
     "evalue": "",
     "output_type": "error",
     "traceback": [
      "\u001b[0;31m---------------------------------------------------------------------------\u001b[0m",
      "\u001b[0;31mKeyboardInterrupt\u001b[0m                         Traceback (most recent call last)",
      "\u001b[0;32m<ipython-input-12-3857ee792654>\u001b[0m in \u001b[0;36m<module>\u001b[0;34m()\u001b[0m\n\u001b[1;32m      2\u001b[0m     \u001b[0;32mif\u001b[0m \u001b[0mrender\u001b[0m\u001b[0;34m:\u001b[0m \u001b[0menv\u001b[0m\u001b[0;34m.\u001b[0m\u001b[0mrender\u001b[0m\u001b[0;34m(\u001b[0m\u001b[0;34m)\u001b[0m\u001b[0;34m\u001b[0m\u001b[0m\n\u001b[1;32m      3\u001b[0m \u001b[0;34m\u001b[0m\u001b[0m\n\u001b[0;32m----> 4\u001b[0;31m     \u001b[0menv\u001b[0m\u001b[0;34m.\u001b[0m\u001b[0mrender\u001b[0m\u001b[0;34m(\u001b[0m\u001b[0;34m)\u001b[0m\u001b[0;34m\u001b[0m\u001b[0m\n\u001b[0m\u001b[1;32m      5\u001b[0m \u001b[0;34m\u001b[0m\u001b[0m\n\u001b[1;32m      6\u001b[0m     \u001b[0;31m# 전처리 후 전 프레임과 현 프레임과의 차이를 인풋으로 사용한다!\u001b[0m\u001b[0;34m\u001b[0m\u001b[0;34m\u001b[0m\u001b[0m\n",
      "\u001b[0;32m/usr/local/lib/python2.7/dist-packages/gym/core.pyc\u001b[0m in \u001b[0;36mrender\u001b[0;34m(self, mode, close)\u001b[0m\n\u001b[1;32m    190\u001b[0m             \u001b[0;32mraise\u001b[0m \u001b[0merror\u001b[0m\u001b[0;34m.\u001b[0m\u001b[0mUnsupportedMode\u001b[0m\u001b[0;34m(\u001b[0m\u001b[0;34m'Unsupported rendering mode: {}. (Supported modes for {}: {})'\u001b[0m\u001b[0;34m.\u001b[0m\u001b[0mformat\u001b[0m\u001b[0;34m(\u001b[0m\u001b[0mmode\u001b[0m\u001b[0;34m,\u001b[0m \u001b[0mself\u001b[0m\u001b[0;34m,\u001b[0m \u001b[0mmodes\u001b[0m\u001b[0;34m)\u001b[0m\u001b[0;34m)\u001b[0m\u001b[0;34m\u001b[0m\u001b[0m\n\u001b[1;32m    191\u001b[0m \u001b[0;34m\u001b[0m\u001b[0m\n\u001b[0;32m--> 192\u001b[0;31m         \u001b[0;32mreturn\u001b[0m \u001b[0mself\u001b[0m\u001b[0;34m.\u001b[0m\u001b[0m_render\u001b[0m\u001b[0;34m(\u001b[0m\u001b[0mmode\u001b[0m\u001b[0;34m=\u001b[0m\u001b[0mmode\u001b[0m\u001b[0;34m,\u001b[0m \u001b[0mclose\u001b[0m\u001b[0;34m=\u001b[0m\u001b[0mclose\u001b[0m\u001b[0;34m)\u001b[0m\u001b[0;34m\u001b[0m\u001b[0m\n\u001b[0m\u001b[1;32m    193\u001b[0m \u001b[0;34m\u001b[0m\u001b[0m\n\u001b[1;32m    194\u001b[0m     \u001b[0;32mdef\u001b[0m \u001b[0mclose\u001b[0m\u001b[0;34m(\u001b[0m\u001b[0mself\u001b[0m\u001b[0;34m)\u001b[0m\u001b[0;34m:\u001b[0m\u001b[0;34m\u001b[0m\u001b[0m\n",
      "\u001b[0;32m/usr/local/lib/python2.7/dist-packages/gym/envs/atari/atari_env.pyc\u001b[0m in \u001b[0;36m_render\u001b[0;34m(self, mode, close)\u001b[0m\n\u001b[1;32m    120\u001b[0m             \u001b[0;32mif\u001b[0m \u001b[0mself\u001b[0m\u001b[0;34m.\u001b[0m\u001b[0mviewer\u001b[0m \u001b[0;32mis\u001b[0m \u001b[0mNone\u001b[0m\u001b[0;34m:\u001b[0m\u001b[0;34m\u001b[0m\u001b[0m\n\u001b[1;32m    121\u001b[0m                 \u001b[0mself\u001b[0m\u001b[0;34m.\u001b[0m\u001b[0mviewer\u001b[0m \u001b[0;34m=\u001b[0m \u001b[0mrendering\u001b[0m\u001b[0;34m.\u001b[0m\u001b[0mSimpleImageViewer\u001b[0m\u001b[0;34m(\u001b[0m\u001b[0;34m)\u001b[0m\u001b[0;34m\u001b[0m\u001b[0m\n\u001b[0;32m--> 122\u001b[0;31m             \u001b[0mself\u001b[0m\u001b[0;34m.\u001b[0m\u001b[0mviewer\u001b[0m\u001b[0;34m.\u001b[0m\u001b[0mimshow\u001b[0m\u001b[0;34m(\u001b[0m\u001b[0mimg\u001b[0m\u001b[0;34m)\u001b[0m\u001b[0;34m\u001b[0m\u001b[0m\n\u001b[0m\u001b[1;32m    123\u001b[0m \u001b[0;34m\u001b[0m\u001b[0m\n\u001b[1;32m    124\u001b[0m     \u001b[0;32mdef\u001b[0m \u001b[0mget_action_meanings\u001b[0m\u001b[0;34m(\u001b[0m\u001b[0mself\u001b[0m\u001b[0;34m)\u001b[0m\u001b[0;34m:\u001b[0m\u001b[0;34m\u001b[0m\u001b[0m\n",
      "\u001b[0;32m/usr/local/lib/python2.7/dist-packages/gym/envs/classic_control/rendering.pyc\u001b[0m in \u001b[0;36mimshow\u001b[0;34m(self, arr)\u001b[0m\n\u001b[1;32m    323\u001b[0m         \u001b[0mself\u001b[0m\u001b[0;34m.\u001b[0m\u001b[0mwindow\u001b[0m\u001b[0;34m.\u001b[0m\u001b[0mswitch_to\u001b[0m\u001b[0;34m(\u001b[0m\u001b[0;34m)\u001b[0m\u001b[0;34m\u001b[0m\u001b[0m\n\u001b[1;32m    324\u001b[0m         \u001b[0mself\u001b[0m\u001b[0;34m.\u001b[0m\u001b[0mwindow\u001b[0m\u001b[0;34m.\u001b[0m\u001b[0mdispatch_events\u001b[0m\u001b[0;34m(\u001b[0m\u001b[0;34m)\u001b[0m\u001b[0;34m\u001b[0m\u001b[0m\n\u001b[0;32m--> 325\u001b[0;31m         \u001b[0mimage\u001b[0m\u001b[0;34m.\u001b[0m\u001b[0mblit\u001b[0m\u001b[0;34m(\u001b[0m\u001b[0;36m0\u001b[0m\u001b[0;34m,\u001b[0m\u001b[0;36m0\u001b[0m\u001b[0;34m)\u001b[0m\u001b[0;34m\u001b[0m\u001b[0m\n\u001b[0m\u001b[1;32m    326\u001b[0m         \u001b[0mself\u001b[0m\u001b[0;34m.\u001b[0m\u001b[0mwindow\u001b[0m\u001b[0;34m.\u001b[0m\u001b[0mflip\u001b[0m\u001b[0;34m(\u001b[0m\u001b[0;34m)\u001b[0m\u001b[0;34m\u001b[0m\u001b[0m\n\u001b[1;32m    327\u001b[0m     \u001b[0;32mdef\u001b[0m \u001b[0mclose\u001b[0m\u001b[0;34m(\u001b[0m\u001b[0mself\u001b[0m\u001b[0;34m)\u001b[0m\u001b[0;34m:\u001b[0m\u001b[0;34m\u001b[0m\u001b[0m\n",
      "\u001b[0;32m/usr/local/lib/python2.7/dist-packages/pyglet/image/__init__.pyc\u001b[0m in \u001b[0;36mblit\u001b[0;34m(self, x, y, z, width, height)\u001b[0m\n\u001b[1;32m    890\u001b[0m \u001b[0;34m\u001b[0m\u001b[0m\n\u001b[1;32m    891\u001b[0m     \u001b[0;32mdef\u001b[0m \u001b[0mblit\u001b[0m\u001b[0;34m(\u001b[0m\u001b[0mself\u001b[0m\u001b[0;34m,\u001b[0m \u001b[0mx\u001b[0m\u001b[0;34m,\u001b[0m \u001b[0my\u001b[0m\u001b[0;34m,\u001b[0m \u001b[0mz\u001b[0m\u001b[0;34m=\u001b[0m\u001b[0;36m0\u001b[0m\u001b[0;34m,\u001b[0m \u001b[0mwidth\u001b[0m\u001b[0;34m=\u001b[0m\u001b[0mNone\u001b[0m\u001b[0;34m,\u001b[0m \u001b[0mheight\u001b[0m\u001b[0;34m=\u001b[0m\u001b[0mNone\u001b[0m\u001b[0;34m)\u001b[0m\u001b[0;34m:\u001b[0m\u001b[0;34m\u001b[0m\u001b[0m\n\u001b[0;32m--> 892\u001b[0;31m         \u001b[0mself\u001b[0m\u001b[0;34m.\u001b[0m\u001b[0mget_texture\u001b[0m\u001b[0;34m(\u001b[0m\u001b[0;34m)\u001b[0m\u001b[0;34m.\u001b[0m\u001b[0mblit\u001b[0m\u001b[0;34m(\u001b[0m\u001b[0mx\u001b[0m\u001b[0;34m,\u001b[0m \u001b[0my\u001b[0m\u001b[0;34m,\u001b[0m \u001b[0mz\u001b[0m\u001b[0;34m,\u001b[0m \u001b[0mwidth\u001b[0m\u001b[0;34m,\u001b[0m \u001b[0mheight\u001b[0m\u001b[0;34m)\u001b[0m\u001b[0;34m\u001b[0m\u001b[0m\n\u001b[0m\u001b[1;32m    893\u001b[0m \u001b[0;34m\u001b[0m\u001b[0m\n\u001b[1;32m    894\u001b[0m     \u001b[0;32mdef\u001b[0m \u001b[0mblit_to_texture\u001b[0m\u001b[0;34m(\u001b[0m\u001b[0mself\u001b[0m\u001b[0;34m,\u001b[0m \u001b[0mtarget\u001b[0m\u001b[0;34m,\u001b[0m \u001b[0mlevel\u001b[0m\u001b[0;34m,\u001b[0m \u001b[0mx\u001b[0m\u001b[0;34m,\u001b[0m \u001b[0my\u001b[0m\u001b[0;34m,\u001b[0m \u001b[0mz\u001b[0m\u001b[0;34m,\u001b[0m \u001b[0minternalformat\u001b[0m\u001b[0;34m=\u001b[0m\u001b[0mNone\u001b[0m\u001b[0;34m)\u001b[0m\u001b[0;34m:\u001b[0m\u001b[0;34m\u001b[0m\u001b[0m\n",
      "\u001b[0;32m/usr/local/lib/python2.7/dist-packages/pyglet/image/__init__.pyc\u001b[0m in \u001b[0;36mget_texture\u001b[0;34m(self, rectangle, force_rectangle)\u001b[0m\n\u001b[1;32m    816\u001b[0m             self._current_texture = self.create_texture(Texture, \n\u001b[1;32m    817\u001b[0m                                                         \u001b[0mrectangle\u001b[0m\u001b[0;34m,\u001b[0m\u001b[0;34m\u001b[0m\u001b[0m\n\u001b[0;32m--> 818\u001b[0;31m                                                         force_rectangle)\n\u001b[0m\u001b[1;32m    819\u001b[0m         \u001b[0;32mreturn\u001b[0m \u001b[0mself\u001b[0m\u001b[0;34m.\u001b[0m\u001b[0m_current_texture\u001b[0m\u001b[0;34m\u001b[0m\u001b[0m\n\u001b[1;32m    820\u001b[0m \u001b[0;34m\u001b[0m\u001b[0m\n",
      "\u001b[0;32m/usr/local/lib/python2.7/dist-packages/pyglet/image/__init__.pyc\u001b[0m in \u001b[0;36mcreate_texture\u001b[0;34m(self, cls, rectangle, force_rectangle)\u001b[0m\n\u001b[1;32m    801\u001b[0m         \u001b[0minternalformat\u001b[0m \u001b[0;34m=\u001b[0m \u001b[0mself\u001b[0m\u001b[0;34m.\u001b[0m\u001b[0m_get_internalformat\u001b[0m\u001b[0;34m(\u001b[0m\u001b[0mself\u001b[0m\u001b[0;34m.\u001b[0m\u001b[0mformat\u001b[0m\u001b[0;34m)\u001b[0m\u001b[0;34m\u001b[0m\u001b[0m\n\u001b[1;32m    802\u001b[0m         texture = cls.create(self.width, self.height, internalformat, \n\u001b[0;32m--> 803\u001b[0;31m                              rectangle, force_rectangle)\n\u001b[0m\u001b[1;32m    804\u001b[0m         \u001b[0;32mif\u001b[0m \u001b[0mself\u001b[0m\u001b[0;34m.\u001b[0m\u001b[0manchor_x\u001b[0m \u001b[0;32mor\u001b[0m \u001b[0mself\u001b[0m\u001b[0;34m.\u001b[0m\u001b[0manchor_y\u001b[0m\u001b[0;34m:\u001b[0m\u001b[0;34m\u001b[0m\u001b[0m\n\u001b[1;32m    805\u001b[0m             \u001b[0mtexture\u001b[0m\u001b[0;34m.\u001b[0m\u001b[0manchor_x\u001b[0m \u001b[0;34m=\u001b[0m \u001b[0mself\u001b[0m\u001b[0;34m.\u001b[0m\u001b[0manchor_x\u001b[0m\u001b[0;34m\u001b[0m\u001b[0m\n",
      "\u001b[0;32m/usr/local/lib/python2.7/dist-packages/pyglet/image/__init__.pyc\u001b[0m in \u001b[0;36mcreate\u001b[0;34m(cls, width, height, internalformat, rectangle, force_rectangle, min_filter, mag_filter)\u001b[0m\n\u001b[1;32m   1512\u001b[0m                      \u001b[0;36m0\u001b[0m\u001b[0;34m,\u001b[0m\u001b[0;34m\u001b[0m\u001b[0m\n\u001b[1;32m   1513\u001b[0m                      \u001b[0mGL_RGBA\u001b[0m\u001b[0;34m,\u001b[0m \u001b[0mGL_UNSIGNED_BYTE\u001b[0m\u001b[0;34m,\u001b[0m\u001b[0;34m\u001b[0m\u001b[0m\n\u001b[0;32m-> 1514\u001b[0;31m                      blank)\n\u001b[0m\u001b[1;32m   1515\u001b[0m \u001b[0;34m\u001b[0m\u001b[0m\n\u001b[1;32m   1516\u001b[0m         \u001b[0mtexture\u001b[0m \u001b[0;34m=\u001b[0m \u001b[0mcls\u001b[0m\u001b[0;34m(\u001b[0m\u001b[0mtexture_width\u001b[0m\u001b[0;34m,\u001b[0m \u001b[0mtexture_height\u001b[0m\u001b[0;34m,\u001b[0m \u001b[0mtarget\u001b[0m\u001b[0;34m,\u001b[0m \u001b[0mid\u001b[0m\u001b[0;34m.\u001b[0m\u001b[0mvalue\u001b[0m\u001b[0;34m)\u001b[0m\u001b[0;34m\u001b[0m\u001b[0m\n",
      "\u001b[0;32m/usr/local/lib/python2.7/dist-packages/pyglet/gl/lib.pyc\u001b[0m in \u001b[0;36merrcheck\u001b[0;34m(result, func, arguments)\u001b[0m\n\u001b[1;32m     82\u001b[0m     \u001b[0;32mpass\u001b[0m\u001b[0;34m\u001b[0m\u001b[0m\n\u001b[1;32m     83\u001b[0m \u001b[0;34m\u001b[0m\u001b[0m\n\u001b[0;32m---> 84\u001b[0;31m \u001b[0;32mdef\u001b[0m \u001b[0merrcheck\u001b[0m\u001b[0;34m(\u001b[0m\u001b[0mresult\u001b[0m\u001b[0;34m,\u001b[0m \u001b[0mfunc\u001b[0m\u001b[0;34m,\u001b[0m \u001b[0marguments\u001b[0m\u001b[0;34m)\u001b[0m\u001b[0;34m:\u001b[0m\u001b[0;34m\u001b[0m\u001b[0m\n\u001b[0m\u001b[1;32m     85\u001b[0m     \u001b[0;32mif\u001b[0m \u001b[0m_debug_gl_trace\u001b[0m\u001b[0;34m:\u001b[0m\u001b[0;34m\u001b[0m\u001b[0m\n\u001b[1;32m     86\u001b[0m         \u001b[0;32mtry\u001b[0m\u001b[0;34m:\u001b[0m\u001b[0;34m\u001b[0m\u001b[0m\n",
      "\u001b[0;31mKeyboardInterrupt\u001b[0m: "
     ]
    }
   ],
   "source": [
    "while True:\n",
    "    if render: env.render()\n",
    "    \n",
    "    env.render()\n",
    "    \n",
    "    # 전처리 후 전 프레임과 현 프레임과의 차이를 인풋으로 사용한다! \n",
    "    cur_x = prepro(observation)\n",
    "    x = cur_x - prev_x if prev_x is not None else np.zeros(D) \n",
    "    prev_x = cur_x\n",
    "\n",
    "    # 정책망을 foward로 흘려보내 action2(Up)할 확률을 구하고 그 확률로부터 action을 샘플링한다.\n",
    "    aprob, h = policy_forward(x)\n",
    "    action = 2 if np.random.uniform() < aprob else 3 # 동전 던지기! 2이면 up, 3이면 down인건가?\n",
    "\n",
    "    # 나중에 backprop을 위해 필요한 정보들을 저장한다. \n",
    "    xs.append(x) # observation\n",
    "    hs.append(h) # hidden state\n",
    "    \n",
    "    # 이 부분은 policy gradient 관련 내용이라 모르겠음.. 나중에 차차 알아봅시다!\n",
    "    y = 1 if action == 2 else 0 # a \"fake label\"\n",
    "    dlogps.append(y - aprob) \n",
    "    # grad that encourages the action that was taken to be taken (see http://cs231n.github.io/neural-networks-2/#losses if confused)\n",
    "\n",
    "    # 다음 스텝으로 진행한다. 현 step에서 action을 취한다.\n",
    "    observation, reward, done, info = env.step(action)\n",
    "    reward_sum += reward\n",
    "\n",
    "    drs.append(reward) # record reward (has to be done after we call step() to get reward for previous action)\n",
    "\n",
    "    if done: # 게임 한판이 끝나면 \n",
    "        episode_number += 1\n",
    "        # vstack을 사용하여 그 한판(에피소드)에 있었던 inputs, hidden states, action gradients, rewards를 모두 합친다!\n",
    "        # https://docs.scipy.org/doc/numpy/reference/generated/numpy.vstack.html\n",
    "        epx = np.vstack(xs)\n",
    "        eph = np.vstack(hs)\n",
    "        epdlogp = np.vstack(dlogps)\n",
    "        epr = np.vstack(drs)\n",
    "        xs,hs,dlogps,drs = [],[],[],[] # 다음판의 저장소로 사용하기 위해 다시 초기화\n",
    "        \n",
    "        # 각 state의 보상의 discount rewards를 구한다\n",
    "        discounted_epr = discount_rewards(epr)\n",
    "        # standardize the rewards to be unit normal (helps control the gradient estimator variance)\n",
    "        discounted_epr -= np.mean(discounted_epr)\n",
    "        discounted_epr /= np.std(discounted_epr)\n",
    "        \n",
    "        # 이 부분은 policy gradient 관련 내용이라 모르겠음.. 나중에 차차 알아봅시다!\n",
    "        epdlogp *= discounted_epr # modulate the gradient with advantage (PG magic happens right here.)\n",
    "        \n",
    "        # backprop을 통해 grad를 계산한다\n",
    "        grad = policy_backward(eph, epdlogp)\n",
    "        for k in model: grad_buffer[k] += grad[k] # accumulate grad over batch\n",
    "        \n",
    "        # episodes가 배치사이즈 만큼 쌓이면 RMSPROP를 통해 parameter update를 수행한다!\n",
    "        if episode_number % batch_size == 0:\n",
    "            for k,v in model.iteritems():\n",
    "                g = grad_buffer[k] # gradient\n",
    "                rmsprop_cache[k] = decay_rate * rmsprop_cache[k] + (1 - decay_rate) * g**2\n",
    "                model[k] += learning_rate * g / (np.sqrt(rmsprop_cache[k]) + 1e-5)\n",
    "                grad_buffer[k] = np.zeros_like(v) # reset batch gradient buffer\n",
    "\n",
    "        # boring book-keeping\n",
    "        # reward_sum과 running_reward의 차이가 무엇이지?\n",
    "        running_reward = reward_sum if running_reward is None else running_reward * 0.99 + reward_sum * 0.01\n",
    "        print 'resetting env. episode reward total was %f. running mean: %f' % (reward_sum, running_reward)\n",
    "        if episode_number % 100 == 0: pickle.dump(model, open('save.p', 'wb'))\n",
    "        reward_sum = 0\n",
    "        observation = env.reset() # reset env\n",
    "        prev_x = None\n",
    "\n",
    "        if reward != 0: # Pong has either +1 or -1 reward exactly when game ends.\n",
    "            print ('ep %d: game finished, reward: %f' % (episode_number, reward)) + ('' if reward == -1 else ' !!!!!!!!')"
   ]
  },
  {
   "cell_type": "code",
   "execution_count": null,
   "metadata": {
    "collapsed": true
   },
   "outputs": [],
   "source": []
  }
 ],
 "metadata": {
  "kernelspec": {
   "display_name": "Python 2",
   "language": "python",
   "name": "python2"
  },
  "language_info": {
   "codemirror_mode": {
    "name": "ipython",
    "version": 2
   },
   "file_extension": ".py",
   "mimetype": "text/x-python",
   "name": "python",
   "nbconvert_exporter": "python",
   "pygments_lexer": "ipython2",
   "version": "2.7.6"
  }
 },
 "nbformat": 4,
 "nbformat_minor": 1
}
